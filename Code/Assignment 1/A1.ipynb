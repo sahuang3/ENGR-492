{
 "cells": [
  {
   "cell_type": "markdown",
   "id": "380e8153",
   "metadata": {},
   "source": [
    "# Assignment 1: Get Familiar with Python and Data Processing"
   ]
  },
  {
   "cell_type": "markdown",
   "id": "7fea28d2",
   "metadata": {},
   "source": [
    "Your Name: Samson Huang"
   ]
  },
  {
   "cell_type": "markdown",
   "id": "30a5d5ce",
   "metadata": {},
   "source": [
    "Import necessary library tools into the environment; Please Google the name of each library to get feel for why they are all very useful."
   ]
  },
  {
   "cell_type": "code",
   "execution_count": null,
   "id": "3a97e578",
   "metadata": {},
   "outputs": [],
   "source": [
    "import numpy as np\n",
    "import pandas as pd\n",
    "from matplotlib.colors import ListedColormap\n",
    "import matplotlib.pyplot as plt\n",
    "from sklearn import neighbors\n",
    "from sklearn.metrics import accuracy_score, classification_report\n",
    "from sklearn.model_selection import train_test_split\n",
    "from sklearn.model_selection import cross_val_score\n",
    "from sklearn.preprocessing import StandardScaler\n",
    "from sklearn.metrics import confusion_matrix\n",
    "from sklearn.metrics import plot_confusion_matrix\n",
    "from sklearn.model_selection import StratifiedShuffleSplit\n",
    "from sklearn.model_selection import StratifiedKFold\n",
    "from sklearn.model_selection import (TimeSeriesSplit, KFold, ShuffleSplit,\n",
    "                                     StratifiedKFold, GroupShuffleSplit,\n",
    "                                     GroupKFold, StratifiedShuffleSplit)\n",
    "from sklearn.model_selection import TimeSeriesSplit\n",
    "from scipy.signal import hilbert, chirp \n",
    "\n",
    "sc = StandardScaler()"
   ]
  },
  {
   "cell_type": "markdown",
   "id": "bacd7c9b",
   "metadata": {},
   "source": [
    "Step 1: Import the data from a accerelometer and gyroscope from \"putty.log\""
   ]
  },
  {
   "cell_type": "code",
   "execution_count": null,
   "id": "637a8045",
   "metadata": {},
   "outputs": [],
   "source": [
    "#open the file\n",
    "fin = open(r\"C:\\Users\\sahua\\Downloads\\ENGR 492\\Code\\Assignment 1\\putty.log\",\"r+\")\n",
    "\n",
    "#store data in 2d array\n",
    "data = [[]]\n",
    "\n",
    "line = fin.readline()\n",
    "while(line):\n",
    "#   data.append(line.split('\\n'))\n",
    "   data.append(line.split(','))\n",
    "   line = fin.readline()\n",
    "\n",
    "data = data[1:]\n",
    "# double check the data integrity\n",
    "#print(data)"
   ]
  },
  {
   "cell_type": "code",
   "execution_count": null,
   "id": "eeadf085",
   "metadata": {},
   "outputs": [],
   "source": [
    "#Data Visualization\n",
    "aX = []\n",
    "aY = []\n",
    "aZ = []\n",
    "bX = []\n",
    "bY = []\n",
    "bZ = []\n",
    "t = []\n",
    "I = []\n",
    "\n",
    "time = 0\n",
    "for log in data:\n",
    "    aX.append(float(log[0]))\n",
    "    aY.append(float(log[1])) ,\n",
    "    aZ.append(float(log[2]))\n",
    "    bX.append(float(log[6]))\n",
    "    bY.append(float(log[7])) ,\n",
    "    bZ.append(float(log[8]))\n",
    "    t.append(time)\n",
    "    I.append(float(log[10]))\n",
    "    time += 1\n",
    "     \n",
    "    \n",
    "plt.plot(t, aX)\n",
    "plt.xlabel('time')\n",
    "plt.ylabel(\"Acceleration X-axis\")\n",
    "plt.show()\n",
    "\n",
    "plt.plot(t, aY)\n",
    "plt.xlabel('time')\n",
    "plt.ylabel(\"Acceleration Y-axis\")\n",
    "plt.show()\n",
    "\n",
    "plt.plot(t, aZ)\n",
    "plt.xlabel('time')\n",
    "plt.ylabel(\"Acceleration Z-axis\")\n",
    "plt.show()\n",
    "\n",
    "plt.plot(t, bX)\n",
    "plt.xlabel('time')\n",
    "plt.ylabel(\"Gyroscope X-axis\")\n",
    "plt.show()\n",
    "\n",
    "plt.plot(t, bY)\n",
    "plt.xlabel('time')\n",
    "plt.ylabel(\"Gyroscope Y-axis\")\n",
    "plt.show()\n",
    "\n",
    "plt.plot(t, bZ)\n",
    "plt.xlabel('time')\n",
    "plt.ylabel(\"Gyroscope Z-axis\")\n",
    "plt.show()\n",
    "\n",
    "\n",
    "#print(\"TIme starts here\",t)"
   ]
  },
  {
   "cell_type": "markdown",
   "id": "1f4f31b6",
   "metadata": {},
   "source": [
    "Step 2: Clipping data "
   ]
  },
  {
   "cell_type": "code",
   "execution_count": null,
   "id": "f3094734",
   "metadata": {},
   "outputs": [],
   "source": [
    "start = 100\n",
    "amount = 15500\n",
    "print(len(aZ))\n",
    "data = data[start:amount]\n",
    "print(\"length of the data\",len(data))"
   ]
  },
  {
   "cell_type": "markdown",
   "id": "5a582055",
   "metadata": {},
   "source": [
    "Step 3: Chunking: chopping each X,Y,Z, acceleration and each X,Y,Z, angular rotation acceleration data into many many equal size windows (hint: 20 data points per chunk)"
   ]
  },
  {
   "cell_type": "code",
   "execution_count": null,
   "id": "81b3b20d-c093-407b-8e2b-045cdf84f75e",
   "metadata": {},
   "outputs": [],
   "source": [
    "import matplotlib.pyplot as plt\n",
    "\n",
    "# Chunking acceleration for X,Y,Z\n",
    "size = 20\n",
    "\n",
    "acceleration = [data[i:i+size] for i in range(0, len(data), size)]\n",
    "\n",
    "for chunk in acceleration:\n",
    "    t_chunk = list(range(len(chunk)))\n",
    "    aX_chunk = [float(log[0]) for log in chunk]\n",
    "    aY_chunk = [float(log[1]) for log in chunk]\n",
    "    aZ_chunk = [float(log[2]) for log in chunk]\n",
    "\n",
    "    plt.plot(t_chunk, aX_chunk, label='Acceleration X-axis')\n",
    "    plt.plot(t_chunk, aY_chunk, label='Acceleration Y-axis')\n",
    "    plt.plot(t_chunk, aZ_chunk, label='Acceleration Z-axis')\n",
    "    plt.xlabel('time')\n",
    "    plt.ylabel('Acceleration')\n",
    "    plt.legend()\n",
    "    plt.show()\n",
    "    \n",
    "# Chunking angular rotation acceleration for X,Y,Z\n",
    "angular = [data[i:i+size] for i in range(0, len(data), size)]\n",
    "\n",
    "for chunk in angular:\n",
    "    t_chunk = list(range(len(chunk)))\n",
    "    bX_chunk = [float(log[6]) for log in chunk]\n",
    "    bY_chunk = [float(log[7]) for log in chunk]\n",
    "    bZ_chunk = [float(log[8]) for log in chunk]\n",
    "\n",
    "    plt.plot(t_chunk, bX_chunk, label='Angular Rotation X-axis')\n",
    "    plt.plot(t_chunk, bY_chunk, label='Angular Rotation Y-axis')\n",
    "    plt.plot(t_chunk, bZ_chunk, label='Angular Rotation Z-axis')\n",
    "    plt.xlabel('time')\n",
    "    plt.ylabel('Angular Rotation Acceleration')\n",
    "    plt.legend()\n",
    "    plt.show()"
   ]
  },
  {
   "cell_type": "markdown",
   "id": "becde2b9",
   "metadata": {},
   "source": [
    "Step 4: Feature Extraction: find (1) mean, (2) rms, (3)slope sign change, (4) number of positive peaks, (5) number of negative peaks, (6) number of zero crossing"
   ]
  },
  {
   "cell_type": "code",
   "execution_count": null,
   "id": "645f1bef-0c73-4401-ab13-2aeb3ff5b543",
   "metadata": {},
   "outputs": [],
   "source": [
    "import numpy as np\n",
    "\n",
    "def calculate(chunk):\n",
    "    t_chunk = list(range(len(chunk)))\n",
    "    aX_chunk = np.array([float(log[0]) for log in chunk])\n",
    "    aY_chunk = np.array([float(log[1]) for log in chunk])\n",
    "    aZ_chunk = np.array([float(log[2]) for log in chunk])\n",
    "\n",
    "    # Mean\n",
    "    mean_aX = np.mean(aX_chunk)\n",
    "    mean_aY = np.mean(aY_chunk)\n",
    "    mean_aZ = np.mean(aZ_chunk)\n",
    "\n",
    "    # RMS\n",
    "    rms_aX = np.sqrt(np.mean(aX_chunk**2))\n",
    "    rms_aY = np.sqrt(np.mean(aY_chunk**2))\n",
    "    rms_aZ = np.sqrt(np.mean(aZ_chunk**2))\n",
    "\n",
    "    # Slope sign change\n",
    "    sign_aX = np.sum(np.diff(np.sign(np.diff(aX_chunk))) != 0)\n",
    "    sign_aY = np.sum(np.diff(np.sign(np.diff(aY_chunk))) != 0)\n",
    "    sign_aZ = np.sum(np.diff(np.sign(np.diff(aZ_chunk))) != 0)\n",
    "\n",
    "    # Positive peak\n",
    "    pos_aX = len(np.where(np.diff(np.sign(np.diff(aX_chunk))) < 0)[0])\n",
    "    pos_aY = len(np.where(np.diff(np.sign(np.diff(aY_chunk))) < 0)[0])\n",
    "    pos_aZ = len(np.where(np.diff(np.sign(np.diff(aZ_chunk))) < 0)[0])\n",
    "\n",
    "    # Negative peak\n",
    "    neg_aX = len(np.where(np.diff(np.sign(np.diff(aX_chunk))) > 0)[0])\n",
    "    neg_aY = len(np.where(np.diff(np.sign(np.diff(aY_chunk))) > 0)[0])\n",
    "    neg_aZ = len(np.where(np.diff(np.sign(np.diff(aZ_chunk))) > 0)[0])\n",
    "\n",
    "    # Zero crossing\n",
    "    zero_aX = len(np.where(np.diff(np.sign(aX_chunk)))[0])\n",
    "    zero_aY = len(np.where(np.diff(np.sign(aY_chunk)))[0])\n",
    "    zero_aZ = len(np.where(np.diff(np.sign(aZ_chunk)))[0])\n",
    "\n",
    "    return{\n",
    "        'mean' : {'aX': mean_aX, 'aY': mean_aY, 'aZ': mean_aZ},\n",
    "        'rms' : {'aX': rms_aX, 'aY': rms_aY, 'aZ': rms_aZ},\n",
    "        'slope' : {'aX': sign_aX, 'aY': sign_aY, 'aZ': sign_aZ},\n",
    "        'pos_peak' : {'aX': pos_aX, 'aY': pos_aY, 'aZ': pos_aZ},\n",
    "        'neg_peak' : {'aX': neg_aX, 'aY': neg_aY, 'aZ': neg_aZ},\n",
    "        'zero' : {'aX': zero_aX, 'aY': zero_aY, 'aZ': zero_aZ}\n",
    "    }\n",
    "\n",
    "for i, chunk in enumerate(acceleration):\n",
    "    metrics = calculate(chunk)\n",
    "    print(\"Frame #\", i+1)\n",
    "    print(\"Mean =\", metrics['mean'])\n",
    "    print(\"RMS =\", metrics['rms'])\n",
    "    print(\"Slope Sign Change =\", metrics['slope'])\n",
    "    print(\"Positive Peak =\", metrics['pos_peak'])\n",
    "    print(\"Negative Peak =\", metrics['neg_peak'])\n",
    "    print(\"Zero Crossings =\", metrics['zero'])\n",
    "    print()"
   ]
  },
  {
   "cell_type": "markdown",
   "id": "babde04b",
   "metadata": {},
   "source": [
    "Step 5: Reconstruction of the data matrix"
   ]
  },
  {
   "cell_type": "code",
   "execution_count": null,
   "id": "23caeb26",
   "metadata": {},
   "outputs": [],
   "source": [
    "len(aX)"
   ]
  },
  {
   "cell_type": "code",
   "execution_count": null,
   "id": "f645147c",
   "metadata": {},
   "outputs": [],
   "source": [
    "def slope_sign_change(arr):\n",
    "    \"\"\"\n",
    "    Checks if there is a sign change in the slope of the array.\n",
    "    Returns True if there is a sign change, False otherwise.\n",
    "    \"\"\"\n",
    "    sc = 0\n",
    "    for i in range(len(arr)-2):\n",
    "        slope1 = arr[i+1] - arr[i]\n",
    "        slope2 = arr[i+2] - arr[i+1]\n",
    "        if slope1 * slope2 < 0:\n",
    "            sc += 1\n",
    "            return\n",
    "    return sc"
   ]
  },
  {
   "cell_type": "code",
   "execution_count": null,
   "id": "fdae3f1a",
   "metadata": {},
   "outputs": [],
   "source": [
    "a = slope_sign_change([1, 2, -1, -2, 1])"
   ]
  },
  {
   "cell_type": "code",
   "execution_count": null,
   "id": "fa8b4d5b",
   "metadata": {},
   "outputs": [],
   "source": [
    "print(a)"
   ]
  },
  {
   "cell_type": "code",
   "execution_count": null,
   "id": "8389614c",
   "metadata": {},
   "outputs": [],
   "source": [
    "arr=np.array([1, 2, -1, -2, 1])"
   ]
  },
  {
   "cell_type": "code",
   "execution_count": null,
   "id": "d5781ab4",
   "metadata": {},
   "outputs": [],
   "source": [
    "sc = 0\n",
    "for i in range(len(arr)-2):\n",
    "    slope1 = arr[i+1] - arr[i]\n",
    "    slope2 = arr[i+2] - arr[i+1]\n",
    "    if slope1 * slope2 < 0:\n",
    "        sc += 1\n",
    "print (sc)"
   ]
  },
  {
   "cell_type": "code",
   "execution_count": null,
   "id": "f395262f",
   "metadata": {},
   "outputs": [],
   "source": []
  }
 ],
 "metadata": {
  "kernelspec": {
   "display_name": "Python 3 (ipykernel)",
   "language": "python",
   "name": "python3"
  },
  "language_info": {
   "codemirror_mode": {
    "name": "ipython",
    "version": 3
   },
   "file_extension": ".py",
   "mimetype": "text/x-python",
   "name": "python",
   "nbconvert_exporter": "python",
   "pygments_lexer": "ipython3",
   "version": "3.9.18"
  }
 },
 "nbformat": 4,
 "nbformat_minor": 5
}
