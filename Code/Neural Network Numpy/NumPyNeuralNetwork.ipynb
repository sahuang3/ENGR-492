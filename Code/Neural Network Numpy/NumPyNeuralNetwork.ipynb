{
 "cells": [
  {
   "cell_type": "markdown",
   "id": "9027db4f-320a-4d88-b5f4-71a6a6ef89ff",
   "metadata": {},
   "source": [
    "# Neural Network using only Numpy"
   ]
  },
  {
   "cell_type": "code",
   "execution_count": 1,
   "id": "81fc819c-053d-4b79-8aed-5d184d7b6bd6",
   "metadata": {},
   "outputs": [],
   "source": [
    "import numpy as np\n",
    "import pandas as pd\n",
    "import matplotlib.pyplot as plt"
   ]
  },
  {
   "cell_type": "code",
   "execution_count": 2,
   "id": "d66fb093-e8eb-4073-ade4-571837e93f08",
   "metadata": {},
   "outputs": [],
   "source": [
    "data = pd.read_csv(\"mnist_train.csv\")"
   ]
  },
  {
   "cell_type": "code",
   "execution_count": 3,
   "id": "5e839419-e90d-4a6d-91fc-5aba89ba0f14",
   "metadata": {},
   "outputs": [],
   "source": [
    "data = np.array(data)\n",
    "m, n = data.shape\n",
    "np.random.shuffle(data) # shuffle before splitting into dev and training sets\n",
    "\n",
    "data_dev = data[0:1000].T\n",
    "Y_dev = data_dev[0]\n",
    "X_dev = data_dev[1:n]\n",
    "X_dev = X_dev / 255\n",
    "\n",
    "data_train = data[1000:m].T\n",
    "Y_train = data_train[0]\n",
    "X_train = data_train[1:n]\n",
    "X_train = X_train / 255\n",
    "_,m_train = X_train.shape"
   ]
  },
  {
   "cell_type": "code",
   "execution_count": 4,
   "id": "a94675a3-50ad-45db-9980-61930670a036",
   "metadata": {},
   "outputs": [],
   "source": [
    "# Initialize parameters (using 15 neurons)\n",
    "neurons = 15;\n",
    "\n",
    "# Found on the forum to fix normalization\n",
    "def init_params():\n",
    "    # Weight and biases with 2 hidden layers\n",
    "    W1 = np.random.normal(size=(neurons, 784)) * np.sqrt(1./784)\n",
    "    b1 = np.random.normal(size=(neurons,1)) * np.sqrt(1./neurons) # 15 neurons\n",
    "    W2 = np.random.normal(size=(neurons, neurons)) * np.sqrt(1./(neurons+10)) # 15 neurons + 10\n",
    "    b2 = np.random.normal(size=(neurons,1)) * np.sqrt(1./784)\n",
    "    return W1, b1, W2, b2\n",
    "\n",
    "# Activation function\n",
    "def ReLU(Z):\n",
    "    # element >= 0 = Z, element < 0 = 0\n",
    "    return np.maximum(Z, 0)\n",
    "\n",
    "# Softmax activation function (Found on the forum to fix runtime error or accuracy issue)\n",
    "def softmax(Z):\n",
    "    Z -= np.max(Z, axis=0) # Subtract max value for numerical stability\n",
    "    A = np.exp(Z) / np.sum(np.exp(Z), axis = 0)\n",
    "    return A\n",
    "\n",
    "def forward_prop(W1, b1, W2, b2, X):\n",
    "    Z1 = W1.dot(X) + b1\n",
    "    A1 = ReLU(Z1)\n",
    "    Z2 = W2.dot(A1) + b2\n",
    "    A2 = softmax(Z2)\n",
    "    return Z1, A1, Z2, A2\n",
    "\n",
    "# One-hot encode Y\n",
    "def one_hot(Y):\n",
    "    one_hot_Y = np.zeros((Y.size, neurons))\n",
    "    one_hot_Y[np.arange(Y.size), Y] = 1\n",
    "    one_hot_Y = one_hot_Y.T\n",
    "    return one_hot_Y\n",
    "\n",
    "# Derivative of activation function\n",
    "def deriv_ReLU(Z):\n",
    "    # slope = 1 when > 0, slope = 0 when < 0\n",
    "    return Z > 0\n",
    "\n",
    "def back_prop(Z1, A1, Z2, A2, W2, X, Y):\n",
    "    m = Y.size\n",
    "    one_hot_Y = one_hot(Y)\n",
    "    dZ2 = A2 - one_hot_Y\n",
    "    dW2 = 1/m * dZ2.dot(A1.T)\n",
    "    db2 = 1/m * np.sum(dZ2)\n",
    "    dZ1 = W2.T.dot(dZ2) * deriv_ReLU(Z1)\n",
    "    dW1 = 1/m * dZ1.dot(X.T)\n",
    "    db1 = 1/m * np.sum(dZ1)\n",
    "    return dW1, db1, dW2, db2\n",
    "\n",
    "def update_params(W1, b1, W2, b2, dW1, db1, dW2, db2, alpha):\n",
    "    W1 = W1 - alpha * dW1\n",
    "    b1 = b1 - alpha * db1\n",
    "    W2 = W2 - alpha * dW2\n",
    "    b2 = b2 - alpha * db2\n",
    "    return W1, b1, W2, b2"
   ]
  },
  {
   "cell_type": "code",
   "execution_count": 5,
   "id": "cc0825d8-6fb6-469f-baed-10f360bbefce",
   "metadata": {},
   "outputs": [],
   "source": [
    "def get_predictions(A2):\n",
    "    return np.argmax(A2, 0)\n",
    "\n",
    "def get_accuracy(predictions, Y):\n",
    "    print(predictions, Y)\n",
    "    return np.sum(predictions == Y) / Y.size\n",
    "\n",
    "def gradient_descent(X, Y, iterations, alpha):\n",
    "    W1, b1, W2, b2 = init_params()\n",
    "    for i in range(iterations):\n",
    "        Z1, A1, Z2, A2 = forward_prop(W1, b1, W2, b2, X)\n",
    "        dW1, db1, dW2, db2 = back_prop(Z1, A1, Z2, A2, W2, X, Y)\n",
    "        W1, b1, W2, b2 = update_params(W1, b1, W2, b2, dW1, db1, dW2, db2, alpha)\n",
    "        # Every 50th iterations\n",
    "        if (i % 50 == 0):\n",
    "            print(\"Iteration: \", i)\n",
    "            print(\"Accuracy: \", get_accuracy(get_predictions(A2), Y))\n",
    "    return W1, b1, W2, b2"
   ]
  },
  {
   "cell_type": "code",
   "execution_count": 6,
   "id": "9e3250b3-c461-4113-add4-7cc54cedec74",
   "metadata": {},
   "outputs": [
    {
     "name": "stdout",
     "output_type": "stream",
     "text": [
      "Iteration:  0\n",
      "[6 6 6 ... 0 6 6] [4 3 3 ... 2 8 4]\n",
      "Accuracy:  0.16093493110052712\n",
      "Iteration:  50\n",
      "[6 3 7 ... 6 3 9] [4 3 3 ... 2 8 4]\n",
      "Accuracy:  0.7688265902811912\n",
      "Iteration:  100\n",
      "[6 5 7 ... 2 3 9] [4 3 3 ... 2 8 4]\n",
      "Accuracy:  0.8402345802471228\n",
      "Iteration:  150\n",
      "[6 5 7 ... 2 3 9] [4 3 3 ... 2 8 4]\n",
      "Accuracy:  0.8683198020305429\n",
      "Iteration:  200\n",
      "[6 5 7 ... 2 3 4] [4 3 3 ... 2 8 4]\n",
      "Accuracy:  0.8833709045916033\n",
      "Iteration:  250\n",
      "[4 5 7 ... 2 3 4] [4 3 3 ... 2 8 4]\n",
      "Accuracy:  0.8917608773030051\n",
      "Iteration:  300\n",
      "[4 5 7 ... 2 3 4] [4 3 3 ... 2 8 4]\n",
      "Accuracy:  0.8970491025271615\n",
      "Iteration:  350\n",
      "[4 5 7 ... 2 3 4] [4 3 3 ... 2 8 4]\n",
      "Accuracy:  0.9016593501584773\n",
      "Iteration:  400\n",
      "[4 5 7 ... 2 3 4] [4 3 3 ... 2 8 4]\n",
      "Accuracy:  0.9051509347616061\n",
      "Iteration:  450\n",
      "[4 5 7 ... 2 3 4] [4 3 3 ... 2 8 4]\n",
      "Accuracy:  0.9074899574569061\n"
     ]
    }
   ],
   "source": [
    "W1, b1, W2, b2 = gradient_descent(X_train, Y_train, 500, 0.10)"
   ]
  },
  {
   "cell_type": "code",
   "execution_count": 7,
   "id": "6dce3842-9049-4e97-862a-c1cea4be5084",
   "metadata": {},
   "outputs": [],
   "source": [
    "def make_predictions(X, W1, b1, W2, b2):\n",
    "    _, _, _, A2 = forward_prop(W1, b1, W2, b2, X)\n",
    "    predictions = get_predictions(A2)\n",
    "    return predictions\n",
    "\n",
    "def test_prediction(index, W1, b1, W2, b2):\n",
    "    current_image = X_train[:, index, None]\n",
    "    prediction = make_predictions(X_train[:, index, None], W1, b1, W2, b2)\n",
    "    label = Y_train[index]\n",
    "    print(\"Prediction: \", prediction)\n",
    "    print(\"Label: \", label)\n",
    "\n",
    "    current_image = current_image.reshape((28, 28)) * 255\n",
    "    plt.gray()\n",
    "    plt.imshow(current_image, interpolation='nearest')"
   ]
  },
  {
   "cell_type": "code",
   "execution_count": 8,
   "id": "f0fbbb54-8a40-45fb-8049-383fb3ef56ad",
   "metadata": {},
   "outputs": [
    {
     "name": "stdout",
     "output_type": "stream",
     "text": [
      "Prediction:  [7]\n",
      "Label:  7\n"
     ]
    },
    {
     "data": {
      "image/png": "[encoded data removed]",
      "text/plain": [
       "<Figure size 640x480 with 1 Axes>"
      ]
     },
     "metadata": {},
     "output_type": "display_data"
    }
   ],
   "source": [
    "test_prediction(10, W1, b1, W2, b2)"
   ]
  },
  {
   "cell_type": "code",
   "execution_count": 9,
   "id": "15b44595-be7c-44f8-9a77-c06ced301431",
   "metadata": {},
   "outputs": [
    {
     "name": "stdout",
     "output_type": "stream",
     "text": [
      "[3 3 6 8 1 1 8 1 2 5 5 0 4 2 2 7 2 0 3 0 4 7 9 8 4 1 2 2 3 8 5 0 1 1 1 8 0\n",
      " 2 5 6 4 4 1 7 8 1 0 6 0 2 0 2 8 5 0 6 7 1 9 3 2 4 4 1 2 8 9 6 7 0 7 3 1 7\n",
      " 1 9 7 1 8 9 6 0 8 0 9 0 2 6 7 0 9 3 0 0 8 5 7 2 3 2 3 9 8 3 3 5 2 7 4 1 1\n",
      " 1 1 4 0 5 0 9 3 7 4 6 5 3 9 5 5 4 3 1 1 1 7 8 6 0 8 9 5 3 0 0 0 4 4 6 5 4\n",
      " 6 0 1 3 0 9 4 3 1 0 2 4 5 0 3 9 2 9 6 7 8 2 2 4 4 4 3 3 6 6 0 0 8 1 6 5 1\n",
      " 6 7 0 3 5 1 6 3 1 0 4 4 1 7 2 0 7 3 6 0 1 8 3 7 1 3 7 8 0 9 0 6 2 6 7 9 6\n",
      " 4 8 3 5 2 7 5 4 4 8 2 3 8 1 2 1 4 4 1 4 9 6 9 9 2 5 9 0 4 3 0 1 1 2 8 3 2\n",
      " 9 3 0 8 7 5 1 2 3 0 7 0 7 0 1 6 6 8 7 7 2 4 5 9 6 1 5 6 5 4 0 6 7 7 1 1 0\n",
      " 3 7 3 1 8 9 6 8 6 0 9 3 0 5 4 9 4 4 4 5 4 3 1 8 1 0 3 1 3 2 3 4 2 1 7 5 4\n",
      " 1 9 6 1 6 6 7 3 2 4 9 0 6 9 7 8 3 1 2 8 2 1 4 8 3 8 8 4 0 9 2 4 4 5 2 2 7\n",
      " 6 6 1 0 2 4 1 6 6 4 2 1 3 9 5 9 4 5 2 3 1 4 6 1 1 0 9 3 4 6 6 1 1 5 2 9 1\n",
      " 9 1 0 3 7 6 4 3 6 6 1 1 5 3 4 5 0 2 1 3 1 3 5 5 8 8 2 8 9 1 7 6 4 0 2 8 7\n",
      " 8 8 7 0 1 8 4 1 2 0 9 4 4 4 7 4 6 5 4 2 4 6 2 4 4 0 6 5 6 6 9 1 3 9 8 9 0\n",
      " 6 0 7 6 3 5 3 9 0 4 2 2 8 9 7 8 0 5 7 0 1 5 4 2 7 0 8 4 8 1 1 8 9 4 5 4 0\n",
      " 0 7 2 6 6 2 5 5 6 7 0 5 6 6 3 5 0 9 4 0 3 3 1 3 7 9 2 6 3 3 8 8 8 7 3 6 2\n",
      " 7 8 8 2 1 5 6 1 8 3 8 5 5 8 9 5 2 8 2 7 0 0 2 9 6 0 0 6 0 9 5 2 0 5 3 7 3\n",
      " 7 2 0 5 2 9 7 7 6 7 7 2 6 2 9 6 6 7 6 3 5 9 9 1 3 0 6 6 4 4 2 2 5 3 4 0 7\n",
      " 5 1 8 2 7 4 1 2 9 5 6 3 5 3 6 1 1 5 3 9 0 7 2 8 5 5 8 4 7 7 0 6 8 3 7 7 1\n",
      " 0 9 6 9 1 7 5 2 6 4 6 9 3 9 6 1 0 3 2 0 2 3 1 6 7 6 3 2 7 0 1 8 1 0 5 4 1\n",
      " 1 1 4 7 3 6 6 3 8 6 3 9 1 6 9 9 4 1 5 6 9 2 8 4 5 4 7 9 4 2 5 3 1 1 0 3 1\n",
      " 3 2 1 8 9 9 4 6 4 2 3 6 3 0 0 8 3 9 3 9 6 8 3 5 5 8 3 4 0 7 5 5 9 0 9 1 3\n",
      " 5 6 3 0 3 3 3 8 0 7 8 7 3 2 5 1 0 1 3 9 7 6 2 5 0 9 9 1 9 2 2 6 4 5 1 4 9\n",
      " 5 2 6 0 6 3 4 0 0 1 3 0 4 1 0 7 8 7 4 4 1 4 4 4 9 5 5 3 7 4 7 0 0 2 0 1 0\n",
      " 6 6 0 3 7 1 7 8 0 6 5 2 7 8 2 0 2 9 5 3 4 7 7 3 1 5 6 1 9 2 3 2 6 8 5 1 0\n",
      " 4 0 0 8 6 5 1 9 8 9 9 9 0 9 9 2 7 8 6 9 3 0 7 2 0 0 2 9 4 4 0 9 2 8 1 7 6\n",
      " 2 2 1 8 4 1 2 6 4 6 1 9 7 8 3 2 7 5 6 4 2 0 6 4 4 8 6 1 9 2 8 2 4 6 1 3 3\n",
      " 3 0 0 3 6 2 5 1 0 3 9 6 9 3 8 0 5 6 3 9 0 3 9 9 1 6 7 2 2 7 1 2 2 9 8 6 9\n",
      " 7] [3 3 6 8 1 1 8 1 2 4 5 0 4 8 3 7 2 0 3 0 4 7 9 8 4 1 2 2 3 8 5 0 1 1 1 8 0\n",
      " 2 3 6 4 4 1 7 8 1 0 8 0 2 0 2 8 5 0 6 7 1 9 3 2 4 4 1 2 4 9 6 7 0 7 3 1 7\n",
      " 1 9 7 1 8 9 6 0 8 0 9 0 2 6 7 0 9 3 0 9 8 5 7 2 3 2 3 9 8 3 3 5 2 7 4 1 1\n",
      " 1 1 4 0 5 0 9 3 7 4 6 5 3 7 5 3 4 3 1 1 1 7 3 6 0 8 9 5 3 0 0 0 4 4 0 5 4\n",
      " 6 0 1 3 0 9 4 5 1 5 2 4 5 0 1 9 2 9 6 7 8 2 2 4 4 4 3 3 6 6 0 0 8 8 6 3 1\n",
      " 6 7 5 3 5 1 6 3 1 0 4 4 1 7 2 0 7 3 2 0 1 8 3 7 1 3 7 8 0 9 0 6 2 6 7 9 2\n",
      " 2 8 3 5 2 7 5 4 4 8 2 3 8 1 2 1 4 4 1 4 9 6 9 9 2 5 9 0 4 8 0 1 1 2 8 3 2\n",
      " 9 3 0 8 7 5 1 2 3 0 7 0 7 2 1 6 6 8 7 7 2 4 5 9 6 1 5 6 5 4 0 6 7 7 1 1 0\n",
      " 8 7 3 1 8 9 6 8 3 0 9 3 0 5 4 4 4 4 4 5 4 3 1 8 1 0 3 1 3 2 3 4 2 1 7 5 5\n",
      " 1 9 2 1 6 6 7 3 2 4 9 0 6 9 7 8 9 1 2 8 2 1 4 9 3 8 8 4 0 9 2 4 4 5 2 2 7\n",
      " 6 2 1 0 2 4 1 6 6 4 2 5 3 9 5 3 4 5 2 3 1 4 6 1 1 0 9 3 4 6 6 1 1 3 2 9 1\n",
      " 9 1 0 3 7 6 4 3 6 6 1 1 5 3 4 5 0 2 1 3 1 3 5 5 8 8 2 8 9 1 7 6 4 0 2 8 7\n",
      " 8 6 7 0 1 8 4 1 2 0 9 4 7 4 7 4 6 5 4 2 4 6 2 9 4 0 6 5 6 6 9 1 3 9 8 9 0\n",
      " 6 6 7 6 3 5 3 9 0 4 2 2 8 9 7 3 0 5 7 0 1 5 4 2 9 0 8 4 8 1 1 8 9 4 5 4 0\n",
      " 0 7 2 6 6 2 5 5 6 7 0 5 6 6 3 5 0 9 4 0 3 3 1 3 7 9 2 6 3 3 8 8 8 7 3 6 2\n",
      " 7 5 8 6 1 3 6 1 8 3 8 6 5 8 9 5 3 8 2 7 0 0 6 9 6 0 0 6 0 9 5 2 0 8 3 2 3\n",
      " 7 2 0 5 2 9 7 7 6 7 7 2 6 2 9 6 6 7 6 3 5 9 9 1 3 0 6 6 4 4 6 2 5 3 4 0 7\n",
      " 5 1 8 2 7 4 1 2 9 5 6 3 5 3 6 1 1 5 3 4 4 7 2 5 8 5 8 4 7 7 0 6 8 9 7 7 1\n",
      " 0 9 6 9 1 7 5 2 6 4 6 9 3 9 5 1 0 3 2 0 2 3 1 6 7 6 3 2 7 0 1 8 1 0 5 4 1\n",
      " 1 1 4 7 3 6 6 9 8 6 3 9 8 6 9 9 4 1 5 6 9 2 8 4 5 4 8 9 4 2 5 3 1 1 0 3 1\n",
      " 3 2 6 8 9 9 4 6 4 2 3 6 3 0 0 8 3 9 3 4 6 0 4 5 5 8 3 4 0 7 5 5 9 0 9 1 8\n",
      " 5 6 3 0 3 3 3 3 0 7 8 7 3 2 5 1 0 1 3 9 7 6 2 5 0 9 9 1 9 2 2 6 4 5 1 4 9\n",
      " 5 2 6 0 6 3 4 0 5 1 3 0 4 8 0 7 3 4 4 4 1 4 4 4 9 5 5 3 7 4 7 0 0 2 0 1 0\n",
      " 6 6 0 3 7 1 7 8 0 6 5 2 7 8 2 0 6 9 5 3 4 7 7 3 1 5 6 1 9 2 3 2 6 5 5 1 0\n",
      " 4 0 0 8 6 5 1 9 8 9 9 9 0 9 9 2 7 8 6 9 3 0 7 2 0 0 2 4 4 4 0 9 2 8 1 7 6\n",
      " 2 2 1 8 9 1 2 6 4 6 1 9 7 8 3 2 7 5 6 4 1 0 6 4 4 8 6 1 9 2 8 2 4 6 1 3 3\n",
      " 3 0 0 3 6 8 5 1 0 3 9 6 9 3 8 0 3 5 3 9 0 3 9 9 1 6 7 2 2 7 1 2 2 9 8 6 9\n",
      " 7]\n"
     ]
    },
    {
     "data": {
      "text/plain": [
       "0.925"
      ]
     },
     "execution_count": 9,
     "metadata": {},
     "output_type": "execute_result"
    }
   ],
   "source": [
    "dev_predictions = make_predictions(X_dev, W1, b1, W2, b2)\n",
    "get_accuracy(dev_predictions, Y_dev)"
   ]
  },
  {
   "cell_type": "code",
   "execution_count": null,
   "id": "f2aaad6c-8c5a-44b8-af1b-444fddddbdeb",
   "metadata": {},
   "outputs": [],
   "source": []
  }
 ],
 "metadata": {
  "kernelspec": {
   "display_name": "Python 3 (ipykernel)",
   "language": "python",
   "name": "python3"
  },
  "language_info": {
   "codemirror_mode": {
    "name": "ipython",
    "version": 3
   },
   "file_extension": ".py",
   "mimetype": "text/x-python",
   "name": "python",
   "nbconvert_exporter": "python",
   "pygments_lexer": "ipython3",
   "version": "3.9.18"
  }
 },
 "nbformat": 4,
 "nbformat_minor": 5
}
