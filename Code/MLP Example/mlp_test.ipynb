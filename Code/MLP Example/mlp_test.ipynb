{
 "cells": [
  {
   "cell_type": "markdown",
   "id": "57606961-3af2-44bf-927a-be03655b23b6",
   "metadata": {},
   "source": [
    "# Use the Model"
   ]
  },
  {
   "cell_type": "code",
   "execution_count": 1,
   "id": "218001b6-6d98-4c8e-b734-e751bdd91cf8",
   "metadata": {},
   "outputs": [],
   "source": [
    "import tensorflow as tf\n",
    "from tensorflow.keras.datasets import mnist"
   ]
  },
  {
   "cell_type": "code",
   "execution_count": 2,
   "id": "aa313760-1f7a-48b3-9b3b-d9489cf3cf17",
   "metadata": {},
   "outputs": [],
   "source": [
    "mnist = tf.keras.datasets.mnist\n",
    "(X_train, y_train), (X_test, y_test) = mnist.load_data()\n",
    "X_train = tf.keras.utils.normalize(X_train, axis=1)\n",
    "X_test = tf.keras.utils.normalize(X_test, axis=1)"
   ]
  },
  {
   "cell_type": "markdown",
   "id": "8f589f04-ecc7-4729-9355-b5c277ca5fa6",
   "metadata": {},
   "source": [
    "Load the model that is trained by the previous program"
   ]
  },
  {
   "cell_type": "code",
   "execution_count": 3,
   "id": "fd9f7eae-8323-4205-b738-40c19717f807",
   "metadata": {},
   "outputs": [],
   "source": [
    "new_model = tf.keras.models.load_model('mlp_16_16.model')"
   ]
  },
  {
   "cell_type": "markdown",
   "id": "4f8dd104-3f95-45ef-8175-1f71f636a965",
   "metadata": {},
   "source": [
    "Use the saved model to predict the testing samples"
   ]
  },
  {
   "cell_type": "code",
   "execution_count": 4,
   "id": "8c8d39bb-cef1-4f46-995f-b0520e03c69a",
   "metadata": {},
   "outputs": [
    {
     "name": "stdout",
     "output_type": "stream",
     "text": [
      "313/313 [==============================] - 1s 1ms/step\n"
     ]
    }
   ],
   "source": [
    "pred = new_model.predict(X_test)"
   ]
  },
  {
   "cell_type": "code",
   "execution_count": 6,
   "id": "75fdeec5-aa67-445d-9a55-8553bb0c397c",
   "metadata": {},
   "outputs": [],
   "source": [
    "import numpy as np\n",
    "import matplotlib.pyplot as plt"
   ]
  },
  {
   "cell_type": "code",
   "execution_count": 20,
   "id": "738411d3-e8c9-4d6c-b92e-5f5f2c5391e1",
   "metadata": {},
   "outputs": [
    {
     "name": "stdout",
     "output_type": "stream",
     "text": [
      "8\n"
     ]
    },
    {
     "data": {
      "text/plain": [
       "<matplotlib.image.AxesImage at 0x2492407df70>"
      ]
     },
     "execution_count": 20,
     "metadata": {},
     "output_type": "execute_result"
    },
    {
     "data": {
      "image/png": "[encoded data removed]",
      "text/plain": [
       "<Figure size 640x480 with 1 Axes>"
      ]
     },
     "metadata": {},
     "output_type": "display_data"
    }
   ],
   "source": [
    "print(np.argmax(pred[720]))\n",
    "plt.imshow(X_test[720], cmap='gray')"
   ]
  },
  {
   "cell_type": "code",
   "execution_count": null,
   "id": "84c32541-3739-4446-b399-7c426a4b4f27",
   "metadata": {},
   "outputs": [],
   "source": []
  }
 ],
 "metadata": {
  "kernelspec": {
   "display_name": "Python 3 (ipykernel)",
   "language": "python",
   "name": "python3"
  },
  "language_info": {
   "codemirror_mode": {
    "name": "ipython",
    "version": 3
   },
   "file_extension": ".py",
   "mimetype": "text/x-python",
   "name": "python",
   "nbconvert_exporter": "python",
   "pygments_lexer": "ipython3",
   "version": "3.9.18"
  }
 },
 "nbformat": 4,
 "nbformat_minor": 5
}
