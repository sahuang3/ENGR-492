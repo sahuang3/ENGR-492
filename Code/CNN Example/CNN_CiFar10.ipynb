{
 "cells": [
  {
   "cell_type": "markdown",
   "id": "534df09c-a08a-419f-8950-d30779259975",
   "metadata": {},
   "source": [
    "# CNN for CiFar10"
   ]
  },
  {
   "cell_type": "code",
   "execution_count": 1,
   "id": "47d734d6-f76e-46f2-a602-e4bba535a260",
   "metadata": {},
   "outputs": [],
   "source": [
    "import tensorflow as tf\n",
    "from tensorflow.keras import datasets, layers, models\n",
    "import matplotlib.pyplot as plt"
   ]
  },
  {
   "cell_type": "markdown",
   "id": "2e66135b-0cf1-4140-8b87-2ef4cde11bfd",
   "metadata": {},
   "source": [
    "Step 1: Load the C1Far10 dataset"
   ]
  },
  {
   "cell_type": "code",
   "execution_count": 2,
   "id": "21466262-2001-4d4c-8d89-d9b41b9bfb2c",
   "metadata": {},
   "outputs": [
    {
     "name": "stdout",
     "output_type": "stream",
     "text": [
      "Downloading data from https://www.cs.toronto.edu/~kriz/cifar-10-python.tar.gz\n",
      "170498071/170498071 [==============================] - 88s 1us/step\n"
     ]
    }
   ],
   "source": [
    "(train_images, train_labels), (test_images, test_labels) = datasets.cifar10.load_data()"
   ]
  },
  {
   "cell_type": "code",
   "execution_count": 3,
   "id": "61350f40-5ed0-455f-8dec-0db314a4212f",
   "metadata": {},
   "outputs": [],
   "source": [
    "class_names=['airplane', 'automobile', 'bird', 'cat', 'deer', 'dog', 'frog', 'horse', 'ship', 'truck']"
   ]
  },
  {
   "cell_type": "code",
   "execution_count": 5,
   "id": "ac6e04b6-a458-421c-9a6a-8c9cc429dab9",
   "metadata": {},
   "outputs": [
    {
     "name": "stdout",
     "output_type": "stream",
     "text": [
      "Training Set Dimension:(50000, 32, 32, 3)\n"
     ]
    }
   ],
   "source": [
    "print(f\"Training Set Dimension:{train_images.shape}\")"
   ]
  },
  {
   "cell_type": "code",
   "execution_count": 9,
   "id": "d7633215-11c7-4742-8e59-f9c3ad5dcd5b",
   "metadata": {},
   "outputs": [
    {
     "name": "stdout",
     "output_type": "stream",
     "text": [
      "Single Set Dimension:(32, 32, 3)\n",
      "Example Image Label:bird\n"
     ]
    },
    {
     "data": {
      "image/png": "[encoded data removed]",
      "text/plain": [
       "<Figure size 640x480 with 1 Axes>"
      ]
     },
     "metadata": {},
     "output_type": "display_data"
    }
   ],
   "source": [
    "imageNum = 144\n",
    "sampleImage = train_images[imageNum]\n",
    "print(f\"Single Set Dimension:{sampleImage.shape}\")\n",
    "plt.imshow(sampleImage, cmap=plt.cm.binary)\n",
    "\n",
    "print(f\"Example Image Label:{class_names[train_labels[imageNum].item(0)]}\")"
   ]
  }
 ],
 "metadata": {
  "kernelspec": {
   "display_name": "Python 3 (ipykernel)",
   "language": "python",
   "name": "python3"
  },
  "language_info": {
   "codemirror_mode": {
    "name": "ipython",
    "version": 3
   },
   "file_extension": ".py",
   "mimetype": "text/x-python",
   "name": "python",
   "nbconvert_exporter": "python",
   "pygments_lexer": "ipython3",
   "version": "3.9.18"
  }
 },
 "nbformat": 4,
 "nbformat_minor": 5
}
